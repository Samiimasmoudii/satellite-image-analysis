{
 "cells": [
  {
   "cell_type": "markdown",
   "id": "cd1699c3",
   "metadata": {},
   "source": [
    "# Python as a Calculator"
   ]
  },
  {
   "cell_type": "markdown",
   "id": "d24de217",
   "metadata": {},
   "source": [
    "Python can be used to perfrom simple arithmetic functions, as we will cover here.\n",
    "\n",
    "However, you need to understand Python operators (don't worry, their easy!).\n",
    "\n",
    "Frequent operators include:\n",
    "    - Addition (+)\n",
    "    - Substraction (-)\n",
    "    - Multiplication (*)\n",
    "    - Divsion (/)\n",
    "    - Power (**)\n",
    "    \n",
    "See more here: https://www.w3schools.com/python/python_operators.asp"
   ]
  },
  {
   "cell_type": "code",
   "execution_count": 1,
   "id": "c1601e9d",
   "metadata": {},
   "outputs": [
    {
     "data": {
      "text/plain": [
       "2"
      ]
     },
     "execution_count": 1,
     "metadata": {},
     "output_type": "execute_result"
    }
   ],
   "source": [
    "# Addition\n",
    "\n",
    "1 + 1"
   ]
  },
  {
   "cell_type": "code",
   "execution_count": 2,
   "id": "ed5a0160",
   "metadata": {},
   "outputs": [
    {
     "data": {
      "text/plain": [
       "1"
      ]
     },
     "execution_count": 2,
     "metadata": {},
     "output_type": "execute_result"
    }
   ],
   "source": [
    "# Subtraction\n",
    "\n",
    "2 - 1 "
   ]
  },
  {
   "cell_type": "code",
   "execution_count": 3,
   "id": "12beba06",
   "metadata": {},
   "outputs": [
    {
     "data": {
      "text/plain": [
       "4"
      ]
     },
     "execution_count": 3,
     "metadata": {},
     "output_type": "execute_result"
    }
   ],
   "source": [
    "# Multiplication\n",
    "\n",
    "2 * 2"
   ]
  },
  {
   "cell_type": "code",
   "execution_count": 4,
   "id": "dfc57468",
   "metadata": {},
   "outputs": [
    {
     "data": {
      "text/plain": [
       "2.0"
      ]
     },
     "execution_count": 4,
     "metadata": {},
     "output_type": "execute_result"
    }
   ],
   "source": [
    "# Division\n",
    "\n",
    "4 / 2"
   ]
  },
  {
   "cell_type": "code",
   "execution_count": 5,
   "id": "1d406055",
   "metadata": {},
   "outputs": [
    {
     "data": {
      "text/plain": [
       "27"
      ]
     },
     "execution_count": 5,
     "metadata": {},
     "output_type": "execute_result"
    }
   ],
   "source": [
    "# Power\n",
    "\n",
    "3 ** 3"
   ]
  },
  {
   "cell_type": "code",
   "execution_count": 6,
   "id": "6b344ac7",
   "metadata": {},
   "outputs": [
    {
     "data": {
      "text/plain": [
       "2.0"
      ]
     },
     "execution_count": 6,
     "metadata": {},
     "output_type": "execute_result"
    }
   ],
   "source": [
    "# Remember parantheses can be used but need to be worked out in order \n",
    "# (e.g. BODMAS, BIDMAS and PEMDAS or whatever version you were taught)\n",
    "\n",
    "8 / (2 * 2)"
   ]
  },
  {
   "cell_type": "code",
   "execution_count": 7,
   "id": "3539bfa6",
   "metadata": {},
   "outputs": [
    {
     "data": {
      "text/plain": [
       "8.0"
      ]
     },
     "execution_count": 7,
     "metadata": {},
     "output_type": "execute_result"
    }
   ],
   "source": [
    "# If you fail to use the correct notation, you can end up with the wrong result!\n",
    "\n",
    "8 / 2 * 2"
   ]
  },
  {
   "cell_type": "code",
   "execution_count": 9,
   "id": "d1f1a281",
   "metadata": {},
   "outputs": [
    {
     "data": {
      "text/plain": [
       "4"
      ]
     },
     "execution_count": 9,
     "metadata": {},
     "output_type": "execute_result"
    }
   ],
   "source": [
    "# Floor division estimates the number of times a whole number divides into another number\n",
    "\n",
    "21 // 5"
   ]
  },
  {
   "cell_type": "code",
   "execution_count": 8,
   "id": "1b094c06",
   "metadata": {},
   "outputs": [
    {
     "data": {
      "text/plain": [
       "1"
      ]
     },
     "execution_count": 8,
     "metadata": {},
     "output_type": "execute_result"
    }
   ],
   "source": [
    "# Modulo Operator returns the remaining quantity after a division\n",
    "\n",
    "21 % 5"
   ]
  },
  {
   "cell_type": "code",
   "execution_count": 10,
   "id": "f9bd43b3",
   "metadata": {},
   "outputs": [
    {
     "data": {
      "text/plain": [
       "1000.0"
      ]
     },
     "execution_count": 10,
     "metadata": {},
     "output_type": "execute_result"
    }
   ],
   "source": [
    "# A handy shortcut which is usful in both Python and Excel is writing out long numbers using scientific notation.\n",
    "# For example, one thousand can be written out using the number one, followed by the letter 'e' to indicate this \n",
    "# is scientific notation, and then the number of following zeros. \n",
    "# Scientific notation = 1 thousand\n",
    "1e3"
   ]
  },
  {
   "cell_type": "code",
   "execution_count": 11,
   "id": "bc3ff1e1",
   "metadata": {},
   "outputs": [
    {
     "data": {
      "text/plain": [
       "1000000.0"
      ]
     },
     "execution_count": 11,
     "metadata": {},
     "output_type": "execute_result"
    }
   ],
   "source": [
    "# Scientific notation = 1 million\n",
    "1e6"
   ]
  },
  {
   "cell_type": "markdown",
   "id": "24b18135",
   "metadata": {},
   "source": [
    "## Exercise 1\n",
    "\n",
    "Work through the following tasks and have a go at obtaining the answers. "
   ]
  },
  {
   "cell_type": "markdown",
   "id": "1666cd86",
   "metadata": {},
   "source": [
    "How would you add five plus five in Python?"
   ]
  },
  {
   "cell_type": "code",
   "execution_count": 12,
   "id": "74662240",
   "metadata": {},
   "outputs": [
    {
     "data": {
      "text/plain": [
       "10"
      ]
     },
     "execution_count": 12,
     "metadata": {},
     "output_type": "execute_result"
    }
   ],
   "source": [
    "#Enter your attempt below:\n",
    "5+5"
   ]
  },
  {
   "cell_type": "markdown",
   "id": "783178d5",
   "metadata": {},
   "source": [
    "How would you write three plus four minus two?"
   ]
  },
  {
   "cell_type": "code",
   "execution_count": 13,
   "id": "7e457dc1",
   "metadata": {},
   "outputs": [
    {
     "data": {
      "text/plain": [
       "5"
      ]
     },
     "execution_count": 13,
     "metadata": {},
     "output_type": "execute_result"
    }
   ],
   "source": [
    "#Enter your attempt below:\n",
    "3+4-2"
   ]
  },
  {
   "cell_type": "markdown",
   "id": "702e0fcc",
   "metadata": {},
   "source": [
    "How would you multiply five by five?:"
   ]
  },
  {
   "cell_type": "code",
   "execution_count": 14,
   "id": "c5ffc633",
   "metadata": {},
   "outputs": [
    {
     "data": {
      "text/plain": [
       "25"
      ]
     },
     "execution_count": 14,
     "metadata": {},
     "output_type": "execute_result"
    }
   ],
   "source": [
    "#Enter your attempt below:\n",
    "5*5"
   ]
  },
  {
   "cell_type": "markdown",
   "id": "ac50be21",
   "metadata": {},
   "source": [
    "There are multiple ways you could write five multiplied by five. \n",
    "\n",
    "How would you raise five to the power of 2! "
   ]
  },
  {
   "cell_type": "code",
   "execution_count": 15,
   "id": "fb75a4bd",
   "metadata": {},
   "outputs": [
    {
     "data": {
      "text/plain": [
       "25"
      ]
     },
     "execution_count": 15,
     "metadata": {},
     "output_type": "execute_result"
    }
   ],
   "source": [
    "#Enter your attempt below:\n",
    "pow(5,2)"
   ]
  },
  {
   "cell_type": "markdown",
   "id": "8265ef71",
   "metadata": {},
   "source": [
    "How would you divide the number ten by two?"
   ]
  },
  {
   "cell_type": "code",
   "execution_count": 16,
   "id": "777732fb",
   "metadata": {},
   "outputs": [
    {
     "data": {
      "text/plain": [
       "5.0"
      ]
     },
     "execution_count": 16,
     "metadata": {},
     "output_type": "execute_result"
    }
   ],
   "source": [
    "#Enter your attempt below:\n",
    "10/2"
   ]
  },
  {
   "cell_type": "markdown",
   "id": "c086d0be",
   "metadata": {},
   "source": [
    "How would you divide ten by three using floor division? "
   ]
  },
  {
   "cell_type": "code",
   "execution_count": 17,
   "id": "f3103868",
   "metadata": {},
   "outputs": [
    {
     "data": {
      "text/plain": [
       "3"
      ]
     },
     "execution_count": 17,
     "metadata": {},
     "output_type": "execute_result"
    }
   ],
   "source": [
    "#Enter your attempt below:\n",
    "10//3"
   ]
  },
  {
   "cell_type": "markdown",
   "id": "c2f00e05",
   "metadata": {},
   "source": [
    "If we divide twelve by five using the modulo operation, what answer do you think you will get? And why?"
   ]
  },
  {
   "cell_type": "code",
   "execution_count": 19,
   "id": "e50931f9",
   "metadata": {},
   "outputs": [
    {
     "data": {
      "text/plain": [
       "2"
      ]
     },
     "execution_count": 19,
     "metadata": {},
     "output_type": "execute_result"
    }
   ],
   "source": [
    "#Enter your attempt below:\n",
    "12%5"
   ]
  },
  {
   "cell_type": "markdown",
   "id": "01abc3ac",
   "metadata": {},
   "source": [
    "Using scientific notation how would you enter 1 billion?"
   ]
  },
  {
   "cell_type": "code",
   "execution_count": 20,
   "id": "b531c472",
   "metadata": {},
   "outputs": [
    {
     "data": {
      "text/plain": [
       "1000000000.0"
      ]
     },
     "execution_count": 20,
     "metadata": {},
     "output_type": "execute_result"
    }
   ],
   "source": [
    "#Enter your attempt below:\n",
    "1e9"
   ]
  },
  {
   "cell_type": "markdown",
   "id": "f807b1ca",
   "metadata": {},
   "source": [
    "Using scientific notation how would you enter 1 trillion?"
   ]
  },
  {
   "cell_type": "markdown",
   "id": "12aed3a1",
   "metadata": {},
   "source": [
    "<div class=\"alert alert-block alert-warning\">\n",
    "\n",
    "<b>!! Note !!</b> More complicated calculations can be done by combining these operations. Eg.\n",
    "\n",
    "</div>"
   ]
  },
  {
   "cell_type": "markdown",
   "id": "db207735",
   "metadata": {},
   "source": [
    "What number would you get if you summed six and twenty one, and the multiplied it by 2, and divided by three?\n",
    "\n",
    "Have a go below:"
   ]
  },
  {
   "cell_type": "code",
   "execution_count": null,
   "id": "09b6fdea",
   "metadata": {},
   "outputs": [],
   "source": [
    "#Enter your attempt below:\n"
   ]
  }
 ],
 "metadata": {
  "kernelspec": {
   "display_name": "sia",
   "language": "python",
   "name": "python3"
  },
  "language_info": {
   "codemirror_mode": {
    "name": "ipython",
    "version": 3
   },
   "file_extension": ".py",
   "mimetype": "text/x-python",
   "name": "python",
   "nbconvert_exporter": "python",
   "pygments_lexer": "ipython3",
   "version": "3.9.12"
  }
 },
 "nbformat": 4,
 "nbformat_minor": 5
}
